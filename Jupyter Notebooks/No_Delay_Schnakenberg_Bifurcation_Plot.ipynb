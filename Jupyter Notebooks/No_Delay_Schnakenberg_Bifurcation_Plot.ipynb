{
 "cells": [
  {
   "cell_type": "code",
   "execution_count": 1,
   "metadata": {},
   "outputs": [],
   "source": [
    "import numpy as NP;\n",
    "import scipy.linalg as LA;\n",
    "import matplotlib.pyplot as plt\n"
   ]
  },
  {
   "cell_type": "code",
   "execution_count": 2,
   "metadata": {},
   "outputs": [],
   "source": [
    "##  @brief      This function computes the eigenvalues of the\n",
    "#               Jacobian matrix associated with the the standard\n",
    "#               Schnakenberg system, with no time delay, evaluated\n",
    "#               at its unique fixed point.\n",
    "#   @param  a   This must be a value of type double, is >0 and dictates the\n",
    "#               value of the a coefficient in the Schnakenberg governing\n",
    "#               equations, whose Jacobian eigenvalues we wish to compute.\n",
    "#   @param  b   This must be a value of type double, is >0 and dictates the\n",
    "#               value of the a coefficient in the Schnakenberg governing\n",
    "#               equations, whose Jacobian eigenvalues we wish to compute.\n",
    "#   @return     This function returns a one dimensional array of length 2,\n",
    "#               of type complex number. The values returned by this matrix\n",
    "#               correspond to the eigenvalues associated with the Jacobian\n",
    "#               for this system, evaluated at the fixed point.\n",
    "def computeEigenvalues(a,b):\n",
    "    u_fixed = b+a;\n",
    "    v_fixed = b/((b+a)**2);\n",
    "    jacobian = lambda u,v: NP.array([[-1+2*u*v, u**2],[-2*u*v, -u**2]]);\n",
    "    fixed_point_matrix = jacobian(u_fixed, v_fixed);\n",
    "    eigenvalues, eigenvectors = LA.eig(fixed_point_matrix);\n",
    "    return eigenvalues;\n"
   ]
  },
  {
   "cell_type": "code",
   "execution_count": 3,
   "metadata": {},
   "outputs": [],
   "source": [
    "# Generate a list of a and b values that will be used to produce a bifurcation\n",
    "# plot.    \n",
    "a_amt = 50;\n",
    "a_values = NP.linspace(0.001, 3, num=a_amt);\n",
    "b_amt=50;\n",
    "b_values = NP.linspace(0.001, 3, num=b_amt);\n"
   ]
  },
  {
   "cell_type": "code",
   "execution_count": 4,
   "metadata": {},
   "outputs": [],
   "source": [
    "# The matrix that will be used to store the type of fixed point that our\n",
    "# system contains for each combination of a and b values.\n",
    "fixed_point_types = NP.zeros((a_amt,b_amt));"
   ]
  },
  {
   "cell_type": "code",
   "execution_count": 5,
   "metadata": {},
   "outputs": [],
   "source": [
    "# The numeric values that will be assigned for each type of fixed point.\n",
    "source_colour_value = 5;\n",
    "sink_colour_value = 3;\n",
    "saddle_colour_value = 10;\n",
    "unstable_spiral_colour_value = -5;\n",
    "stable_spiral_colour_value = -3;\n"
   ]
  },
  {
   "cell_type": "code",
   "execution_count": 6,
   "metadata": {},
   "outputs": [],
   "source": [
    "# Iterate through each combination of a and b values in the a_values and\n",
    "# b_values lists and classify the fixed point in each system.\n",
    "for i in range(0, a_amt):\n",
    "    for j in range(0, b_amt):\n",
    "        a = a_values[i];\n",
    "        b = b_values[j];\n",
    "\n",
    "        eigenvalues = computeEigenvalues(a, b);\n",
    "\n",
    "        real1 = NP.real(eigenvalues[0]);\n",
    "        real2 = NP.real(eigenvalues[1]);\n",
    "        imag1 = NP.imag(eigenvalues[0]);\n",
    "        imag2 = NP.imag(eigenvalues[1]);\n",
    "        \n",
    "        # If the fixed point is asymptotically unstable.        \n",
    "        if(real1>0 and real2>0):\n",
    "            if(abs(imag1)<1e-16):\n",
    "                fixed_point_types[i][j] = source_colour_value;\n",
    "            else:\n",
    "                fixed_point_types[i][j] = unstable_spiral_colour_value;\n",
    "\n",
    "        # If fixed point is a hyperbolic saddle.\n",
    "        elif((real1>0 and real2<0) or (real1<0 and real2>0)):\n",
    "                fixed_point_types[i][j] = saddle_colour_value;\n",
    "\n",
    "        # If the fixed point is asymptotically stable.\n",
    "        elif(real1<0 and real2<0):\n",
    "            if(abs(imag1)<1e-16):\n",
    "                fixed_point_types[i][j] = sink_colour_value;\n",
    "            else:\n",
    "                fixed_point_types[i][j] = stable_spiral_colour_value;\n"
   ]
  },
  {
   "cell_type": "code",
   "execution_count": 7,
   "metadata": {},
   "outputs": [
    {
     "data": {
      "image/png": "[encoded data removed]",
      "text/plain": [
       "<Figure size 432x288 with 1 Axes>"
      ]
     },
     "metadata": {
      "needs_background": "light"
     },
     "output_type": "display_data"
    }
   ],
   "source": [
    "# Plot types of fixed point in a bifurcatiion diagram.\n",
    "XX, YY = NP.meshgrid(a_values, b_values);\n",
    "fig = plt.figure();\n",
    "plt.title('Bifurcation Plot for No Delay Schnakenberg Kinetics');\n",
    "p = plt.imshow(fixed_point_types, extent=[0, max(a_values), max(b_values), 0]);\n",
    "plt.xlabel('$a$');\n",
    "plt.ylabel('$b$');\n",
    "plt.gca().invert_yaxis()\n",
    "plt.show();"
   ]
  },
  {
   "cell_type": "code",
   "execution_count": null,
   "metadata": {},
   "outputs": [],
   "source": []
  }
 ],
 "metadata": {
  "kernelspec": {
   "display_name": "Python 3",
   "language": "python",
   "name": "python3"
  },
  "language_info": {
   "codemirror_mode": {
    "name": "ipython",
    "version": 3
   },
   "file_extension": ".py",
   "mimetype": "text/x-python",
   "name": "python",
   "nbconvert_exporter": "python",
   "pygments_lexer": "ipython3",
   "version": "3.7.6"
  }
 },
 "nbformat": 4,
 "nbformat_minor": 4
}
